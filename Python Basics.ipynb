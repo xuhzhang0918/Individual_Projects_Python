{
 "cells": [
  {
   "cell_type": "code",
   "execution_count": 1,
   "metadata": {
    "collapsed": true
   },
   "outputs": [],
   "source": [
    "f = open('births.csv','r')\n",
    "birth = f.read()"
   ]
  },
  {
   "cell_type": "code",
   "execution_count": 2,
   "metadata": {
    "collapsed": false
   },
   "outputs": [],
   "source": [
    "new_birth = birth.split('\\n')"
   ]
  },
  {
   "cell_type": "code",
   "execution_count": 3,
   "metadata": {
    "collapsed": false
   },
   "outputs": [],
   "source": [
    "double_new_birth = []\n",
    "for each in new_birth:\n",
    "    split_birth = each.split(',')\n",
    "    double_new_birth.append(split_birth)"
   ]
  },
  {
   "cell_type": "code",
   "execution_count": 4,
   "metadata": {
    "collapsed": false
   },
   "outputs": [],
   "source": [
    "data_no_header = new_birth[1:len(new_birth)]\n",
    "days_counts = dict()"
   ]
  },
  {
   "cell_type": "code",
   "execution_count": 5,
   "metadata": {
    "collapsed": false
   },
   "outputs": [
    {
     "data": {
      "text/plain": [
       "{'1': 5789166,\n",
       " '2': 6446196,\n",
       " '3': 6322855,\n",
       " '4': 6288429,\n",
       " '5': 6233657,\n",
       " '6': 4562111,\n",
       " '7': 4079723}"
      ]
     },
     "execution_count": 5,
     "metadata": {},
     "output_type": "execute_result"
    }
   ],
   "source": [
    "for each in data_no_header:\n",
    "    new_data = each.split(',')\n",
    "    day_of_week = new_data[3]\n",
    "    births = int(new_data[4])\n",
    "    if day_of_week in days_counts:\n",
    "        days_counts[day_of_week] = days_counts[day_of_week] + births\n",
    "    else:\n",
    "        days_counts[day_of_week] = births\n",
    "days_counts"
   ]
  }
 ],
 "metadata": {
  "anaconda-cloud": {},
  "kernelspec": {
   "display_name": "Python 3",
   "language": "python",
   "name": "python3"
  },
  "language_info": {
   "codemirror_mode": {
    "name": "ipython",
    "version": 3
   },
   "file_extension": ".py",
   "mimetype": "text/x-python",
   "name": "python",
   "nbconvert_exporter": "python",
   "pygments_lexer": "ipython3",
   "version": "3.4.3"
  }
 },
 "nbformat": 4,
 "nbformat_minor": 1
}
